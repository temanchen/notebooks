{
 "cells": [
  {
   "cell_type": "code",
   "execution_count": 1,
   "metadata": {
    "collapsed": true
   },
   "outputs": [],
   "source": [
    "import numpy as np\n",
    "from numpy.linalg import inv, norm\n",
    "from sklearn import datasets, linear_model"
   ]
  },
  {
   "cell_type": "code",
   "execution_count": 2,
   "metadata": {
    "collapsed": true
   },
   "outputs": [],
   "source": [
    "class LinearRegression:\n",
    "    Theta = None\n",
    "    \n",
    "    def fit(self, X_train, y, use_numerical=False, alpha=0.5, max_iter=10000):\n",
    "        (m, n) = X_train.shape\n",
    "        # add a column of ones\n",
    "        X = np.c_[ np.ones(m), X_train ]\n",
    "        if use_numerical:\n",
    "            # use gradient descent to solve for Theta\n",
    "            self.Theta = np.zeros(n+1)\n",
    "            for i in range(0, max_iter):\n",
    "                grad = 1.0 / m * (X.T @ (X @ self.Theta - y))\n",
    "                self.Theta -= alpha * grad\n",
    "                if norm(grad) < 1e-3:\n",
    "                    break\n",
    "        else:\n",
    "            # solve for Theta analytically\n",
    "            self.Theta = inv(X.T @ X) @ X.T @ y    \n",
    "    \n",
    "    def predict(self, X_test):\n",
    "        (m, n) = X_test.shape\n",
    "        # add a column of ones\n",
    "        X = np.c_[ np.ones(m), X_test ]\n",
    "        return X @ self.Theta"
   ]
  },
  {
   "cell_type": "code",
   "execution_count": 3,
   "metadata": {
    "collapsed": false
   },
   "outputs": [
    {
     "data": {
      "text/plain": [
       "LinearRegression(copy_X=True, fit_intercept=True, n_jobs=1, normalize=False)"
      ]
     },
     "execution_count": 3,
     "metadata": {},
     "output_type": "execute_result"
    }
   ],
   "source": [
    "diabetes = datasets.load_diabetes()\n",
    "\n",
    "\n",
    "# Use only one feature\n",
    "diabetes_X = diabetes.data[:, np.newaxis, 2]\n",
    "\n",
    "# Split the data into training/testing sets\n",
    "diabetes_X_train = diabetes_X[:-20]\n",
    "diabetes_X_test = diabetes_X[-20:]\n",
    "\n",
    "# Split the targets into training/testing sets\n",
    "diabetes_y_train = diabetes.target[:-20]\n",
    "diabetes_y_test = diabetes.target[-20:]\n",
    "\n",
    "# Create linear regression object\n",
    "regr = LinearRegression()\n",
    "skregr = linear_model.LinearRegression()\n",
    "\n",
    "# Train the model using the training sets\n",
    "regr.fit(diabetes_X_train, diabetes_y_train)\n",
    "skregr.fit(diabetes_X_train, diabetes_y_train)"
   ]
  },
  {
   "cell_type": "code",
   "execution_count": 4,
   "metadata": {
    "collapsed": false
   },
   "outputs": [
    {
     "name": "stdout",
     "output_type": "stream",
     "text": [
      "Coefficients:\n",
      "My LR: [ 152.91886183  938.23786125], sklearn LR: [ 938.23786125]\n",
      "Mean squared error:\n",
      "My LR: 2548.07, sklearn LR: 2548.07\n"
     ]
    }
   ],
   "source": [
    "print('Coefficients:')\n",
    "print('My LR: {}, sklearn LR: {}'.format(regr.Theta, skregr.coef_))\n",
    "print('Mean squared error:')\n",
    "print('My LR: {:.2f}, sklearn LR: {:.2f}'.format(\n",
    "    np.mean((regr.predict(diabetes_X_test) - diabetes_y_test) ** 2),\n",
    "    np.mean((skregr.predict(diabetes_X_test) - diabetes_y_test) ** 2)))"
   ]
  },
  {
   "cell_type": "code",
   "execution_count": 5,
   "metadata": {
    "collapsed": false
   },
   "outputs": [
    {
     "data": {
      "text/plain": [
       "2548.5735108171853"
      ]
     },
     "execution_count": 5,
     "metadata": {},
     "output_type": "execute_result"
    }
   ],
   "source": [
    "# use gradient descent\n",
    "regr2 = LinearRegression()\n",
    "regr2.fit(diabetes_X_train, diabetes_y_train, True)\n",
    "np.mean((regr2.predict(diabetes_X_test) - diabetes_y_test) ** 2)"
   ]
  },
  {
   "cell_type": "code",
   "execution_count": null,
   "metadata": {
    "collapsed": true
   },
   "outputs": [],
   "source": []
  }
 ],
 "metadata": {
  "kernelspec": {
   "display_name": "Python 3",
   "language": "python",
   "name": "python3"
  },
  "language_info": {
   "codemirror_mode": {
    "name": "ipython",
    "version": 3
   },
   "file_extension": ".py",
   "mimetype": "text/x-python",
   "name": "python",
   "nbconvert_exporter": "python",
   "pygments_lexer": "ipython3",
   "version": "3.5.2"
  }
 },
 "nbformat": 4,
 "nbformat_minor": 2
}
